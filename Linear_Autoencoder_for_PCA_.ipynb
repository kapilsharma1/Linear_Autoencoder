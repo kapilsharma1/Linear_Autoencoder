{
  "nbformat": 4,
  "nbformat_minor": 0,
  "metadata": {
    "colab": {
      "name": "Linear-Autoencoder-for-PCA-.ipynb",
      "version": "0.3.2",
      "provenance": [],
      "collapsed_sections": []
    },
    "kernelspec": {
      "display_name": "Python 3",
      "language": "python",
      "name": "python3"
    }
  },
  "cells": [
    {
      "metadata": {
        "id": "3oI_bR7OQGRs",
        "colab_type": "code",
        "colab": {}
      },
      "cell_type": "code",
      "source": [
        "#The main purpose of Linear autoencoder is for dimensionality reduction like principal component analysis.\n",
        "#Here we will be reducing a 30 dimension data into 2 dimensions and plotting it finally. "
      ],
      "execution_count": 0,
      "outputs": []
    },
    {
      "metadata": {
        "id": "bDNLLx29OP-R",
        "colab_type": "code",
        "colab": {}
      },
      "cell_type": "code",
      "source": [
        "#importing libraries\n",
        "import numpy as np\n",
        "import matplotlib.pyplot as plt\n",
        "import pandas as pd"
      ],
      "execution_count": 0,
      "outputs": []
    },
    {
      "metadata": {
        "id": "2M0_BZI5OP-Y",
        "colab_type": "code",
        "colab": {}
      },
      "cell_type": "code",
      "source": [
        "#read data\n",
        "df=pd.read_csv(\"anonymized_data.csv\")"
      ],
      "execution_count": 0,
      "outputs": []
    },
    {
      "metadata": {
        "id": "kuyOcmIYOP-d",
        "colab_type": "code",
        "colab": {},
        "outputId": "86567c1e-d8a8-40a6-a6d8-0e2854011409"
      },
      "cell_type": "code",
      "source": [
        "#show data\n",
        "df.head()"
      ],
      "execution_count": 0,
      "outputs": [
        {
          "output_type": "execute_result",
          "data": {
            "text/html": [
              "<div>\n",
              "<style scoped>\n",
              "    .dataframe tbody tr th:only-of-type {\n",
              "        vertical-align: middle;\n",
              "    }\n",
              "\n",
              "    .dataframe tbody tr th {\n",
              "        vertical-align: top;\n",
              "    }\n",
              "\n",
              "    .dataframe thead th {\n",
              "        text-align: right;\n",
              "    }\n",
              "</style>\n",
              "<table border=\"1\" class=\"dataframe\">\n",
              "  <thead>\n",
              "    <tr style=\"text-align: right;\">\n",
              "      <th></th>\n",
              "      <th>EJWY</th>\n",
              "      <th>VALM</th>\n",
              "      <th>EGXO</th>\n",
              "      <th>HTGR</th>\n",
              "      <th>SKRF</th>\n",
              "      <th>NNSZ</th>\n",
              "      <th>NYLC</th>\n",
              "      <th>GWID</th>\n",
              "      <th>TVUT</th>\n",
              "      <th>CJHI</th>\n",
              "      <th>...</th>\n",
              "      <th>LKKS</th>\n",
              "      <th>UOBF</th>\n",
              "      <th>VBHE</th>\n",
              "      <th>FRWU</th>\n",
              "      <th>NDYZ</th>\n",
              "      <th>QSBO</th>\n",
              "      <th>JDUB</th>\n",
              "      <th>TEVK</th>\n",
              "      <th>EZTM</th>\n",
              "      <th>Label</th>\n",
              "    </tr>\n",
              "  </thead>\n",
              "  <tbody>\n",
              "    <tr>\n",
              "      <th>0</th>\n",
              "      <td>-2.032145</td>\n",
              "      <td>1.019576</td>\n",
              "      <td>-9.658715</td>\n",
              "      <td>-6.210495</td>\n",
              "      <td>3.156823</td>\n",
              "      <td>7.457850</td>\n",
              "      <td>-5.313357</td>\n",
              "      <td>8.508296</td>\n",
              "      <td>3.959194</td>\n",
              "      <td>-5.246654</td>\n",
              "      <td>...</td>\n",
              "      <td>-2.209663</td>\n",
              "      <td>-10.340123</td>\n",
              "      <td>-7.697555</td>\n",
              "      <td>-5.932752</td>\n",
              "      <td>10.872688</td>\n",
              "      <td>0.081321</td>\n",
              "      <td>1.276316</td>\n",
              "      <td>5.281225</td>\n",
              "      <td>-0.516447</td>\n",
              "      <td>0.0</td>\n",
              "    </tr>\n",
              "    <tr>\n",
              "      <th>1</th>\n",
              "      <td>8.306217</td>\n",
              "      <td>6.649376</td>\n",
              "      <td>-0.960333</td>\n",
              "      <td>-4.094799</td>\n",
              "      <td>8.738965</td>\n",
              "      <td>-3.458797</td>\n",
              "      <td>7.016800</td>\n",
              "      <td>6.692765</td>\n",
              "      <td>0.898264</td>\n",
              "      <td>9.337643</td>\n",
              "      <td>...</td>\n",
              "      <td>0.851793</td>\n",
              "      <td>-9.678324</td>\n",
              "      <td>-6.071795</td>\n",
              "      <td>1.428194</td>\n",
              "      <td>-8.082792</td>\n",
              "      <td>-0.557089</td>\n",
              "      <td>-7.817282</td>\n",
              "      <td>-8.686722</td>\n",
              "      <td>-6.953100</td>\n",
              "      <td>1.0</td>\n",
              "    </tr>\n",
              "    <tr>\n",
              "      <th>2</th>\n",
              "      <td>6.570842</td>\n",
              "      <td>6.985462</td>\n",
              "      <td>-1.842621</td>\n",
              "      <td>-1.569599</td>\n",
              "      <td>10.039339</td>\n",
              "      <td>-3.623026</td>\n",
              "      <td>8.957619</td>\n",
              "      <td>7.577283</td>\n",
              "      <td>1.541255</td>\n",
              "      <td>7.161509</td>\n",
              "      <td>...</td>\n",
              "      <td>1.376085</td>\n",
              "      <td>-8.971164</td>\n",
              "      <td>-5.302191</td>\n",
              "      <td>2.898965</td>\n",
              "      <td>-8.746597</td>\n",
              "      <td>-0.520888</td>\n",
              "      <td>-7.350999</td>\n",
              "      <td>-8.925501</td>\n",
              "      <td>-7.051179</td>\n",
              "      <td>1.0</td>\n",
              "    </tr>\n",
              "    <tr>\n",
              "      <th>3</th>\n",
              "      <td>-1.139972</td>\n",
              "      <td>0.579422</td>\n",
              "      <td>-9.526530</td>\n",
              "      <td>-5.744928</td>\n",
              "      <td>4.834355</td>\n",
              "      <td>5.907235</td>\n",
              "      <td>-4.804137</td>\n",
              "      <td>6.798810</td>\n",
              "      <td>5.403670</td>\n",
              "      <td>-7.642857</td>\n",
              "      <td>...</td>\n",
              "      <td>0.270571</td>\n",
              "      <td>-8.640988</td>\n",
              "      <td>-8.105419</td>\n",
              "      <td>-5.079015</td>\n",
              "      <td>9.351282</td>\n",
              "      <td>0.641759</td>\n",
              "      <td>1.898083</td>\n",
              "      <td>3.904671</td>\n",
              "      <td>1.453499</td>\n",
              "      <td>0.0</td>\n",
              "    </tr>\n",
              "    <tr>\n",
              "      <th>4</th>\n",
              "      <td>-1.738104</td>\n",
              "      <td>0.234729</td>\n",
              "      <td>-11.558768</td>\n",
              "      <td>-7.181332</td>\n",
              "      <td>4.189626</td>\n",
              "      <td>7.765274</td>\n",
              "      <td>-2.189083</td>\n",
              "      <td>7.239925</td>\n",
              "      <td>3.135602</td>\n",
              "      <td>-6.211390</td>\n",
              "      <td>...</td>\n",
              "      <td>-0.013973</td>\n",
              "      <td>-9.437110</td>\n",
              "      <td>-6.475267</td>\n",
              "      <td>-5.708377</td>\n",
              "      <td>9.623080</td>\n",
              "      <td>1.802899</td>\n",
              "      <td>1.903705</td>\n",
              "      <td>4.188442</td>\n",
              "      <td>1.522362</td>\n",
              "      <td>0.0</td>\n",
              "    </tr>\n",
              "  </tbody>\n",
              "</table>\n",
              "<p>5 rows × 31 columns</p>\n",
              "</div>"
            ],
            "text/plain": [
              "       EJWY      VALM       EGXO      HTGR       SKRF      NNSZ      NYLC  \\\n",
              "0 -2.032145  1.019576  -9.658715 -6.210495   3.156823  7.457850 -5.313357   \n",
              "1  8.306217  6.649376  -0.960333 -4.094799   8.738965 -3.458797  7.016800   \n",
              "2  6.570842  6.985462  -1.842621 -1.569599  10.039339 -3.623026  8.957619   \n",
              "3 -1.139972  0.579422  -9.526530 -5.744928   4.834355  5.907235 -4.804137   \n",
              "4 -1.738104  0.234729 -11.558768 -7.181332   4.189626  7.765274 -2.189083   \n",
              "\n",
              "       GWID      TVUT      CJHI  ...        LKKS       UOBF      VBHE  \\\n",
              "0  8.508296  3.959194 -5.246654  ...   -2.209663 -10.340123 -7.697555   \n",
              "1  6.692765  0.898264  9.337643  ...    0.851793  -9.678324 -6.071795   \n",
              "2  7.577283  1.541255  7.161509  ...    1.376085  -8.971164 -5.302191   \n",
              "3  6.798810  5.403670 -7.642857  ...    0.270571  -8.640988 -8.105419   \n",
              "4  7.239925  3.135602 -6.211390  ...   -0.013973  -9.437110 -6.475267   \n",
              "\n",
              "       FRWU       NDYZ      QSBO      JDUB      TEVK      EZTM  Label  \n",
              "0 -5.932752  10.872688  0.081321  1.276316  5.281225 -0.516447    0.0  \n",
              "1  1.428194  -8.082792 -0.557089 -7.817282 -8.686722 -6.953100    1.0  \n",
              "2  2.898965  -8.746597 -0.520888 -7.350999 -8.925501 -7.051179    1.0  \n",
              "3 -5.079015   9.351282  0.641759  1.898083  3.904671  1.453499    0.0  \n",
              "4 -5.708377   9.623080  1.802899  1.903705  4.188442  1.522362    0.0  \n",
              "\n",
              "[5 rows x 31 columns]"
            ]
          },
          "metadata": {
            "tags": []
          },
          "execution_count": 4
        }
      ]
    },
    {
      "metadata": {
        "id": "01N3pZ7ZOP-o",
        "colab_type": "code",
        "colab": {},
        "outputId": "e5abcc2f-96a5-4d12-fd76-2f5ba81c1ff3"
      },
      "cell_type": "code",
      "source": [
        ""
      ],
      "execution_count": 0,
      "outputs": [
        {
          "output_type": "stream",
          "text": [
            "<class 'pandas.core.frame.DataFrame'>\n",
            "RangeIndex: 500 entries, 0 to 499\n",
            "Data columns (total 31 columns):\n",
            "EJWY     500 non-null float64\n",
            "VALM     500 non-null float64\n",
            "EGXO     500 non-null float64\n",
            "HTGR     500 non-null float64\n",
            "SKRF     500 non-null float64\n",
            "NNSZ     500 non-null float64\n",
            "NYLC     500 non-null float64\n",
            "GWID     500 non-null float64\n",
            "TVUT     500 non-null float64\n",
            "CJHI     500 non-null float64\n",
            "NVFW     500 non-null float64\n",
            "VLBG     500 non-null float64\n",
            "IDIX     500 non-null float64\n",
            "UVHN     500 non-null float64\n",
            "IWOT     500 non-null float64\n",
            "LEMB     500 non-null float64\n",
            "QMYY     500 non-null float64\n",
            "XDGR     500 non-null float64\n",
            "ODZS     500 non-null float64\n",
            "LNJS     500 non-null float64\n",
            "WDRT     500 non-null float64\n",
            "LKKS     500 non-null float64\n",
            "UOBF     500 non-null float64\n",
            "VBHE     500 non-null float64\n",
            "FRWU     500 non-null float64\n",
            "NDYZ     500 non-null float64\n",
            "QSBO     500 non-null float64\n",
            "JDUB     500 non-null float64\n",
            "TEVK     500 non-null float64\n",
            "EZTM     500 non-null float64\n",
            "Label    500 non-null float64\n",
            "dtypes: float64(31)\n",
            "memory usage: 121.2 KB\n"
          ],
          "name": "stdout"
        }
      ]
    },
    {
      "metadata": {
        "id": "oGxnXZEaOP-x",
        "colab_type": "code",
        "colab": {}
      },
      "cell_type": "code",
      "source": [
        "from sklearn.preprocessing import MinMaxScaler"
      ],
      "execution_count": 0,
      "outputs": []
    },
    {
      "metadata": {
        "id": "wjQq5TcfOP-2",
        "colab_type": "code",
        "colab": {}
      },
      "cell_type": "code",
      "source": [
        "#Scaling the data with minmax scaler\n",
        "scaler=MinMaxScaler()\n",
        "\n",
        "data=df.drop(\"Label\",axis=1)\n",
        "scaled_data=scaler.fit_transform(data)"
      ],
      "execution_count": 0,
      "outputs": []
    },
    {
      "metadata": {
        "id": "pA0eLz69OP--",
        "colab_type": "code",
        "colab": {}
      },
      "cell_type": "code",
      "source": [
        "#Import tensorflow\n",
        "import tensorflow as tf\n",
        "from tensorflow.contrib.layers import fully_connected\n"
      ],
      "execution_count": 0,
      "outputs": []
    },
    {
      "metadata": {
        "id": "-ZdVBIwuOP_H",
        "colab_type": "code",
        "colab": {}
      },
      "cell_type": "code",
      "source": [
        "#declaring constants\n",
        "num_inputs = 30 \n",
        "num_hidden = 2\n",
        "num_outputs = num_inputs # Must be true for an autoencoder!\n",
        "\n",
        "learning_rate =0.01 \n"
      ],
      "execution_count": 0,
      "outputs": []
    },
    {
      "metadata": {
        "id": "xpG8lCqZOP_V",
        "colab_type": "code",
        "colab": {}
      },
      "cell_type": "code",
      "source": [
        "#Define placeholders\n",
        "X=tf.placeholder(tf.float32,shape=[None,30])"
      ],
      "execution_count": 0,
      "outputs": []
    },
    {
      "metadata": {
        "id": "-C9aTwwUOP_Z",
        "colab_type": "code",
        "colab": {}
      },
      "cell_type": "code",
      "source": [
        "#MAIN COMPUTATIONAL GRAPH\n",
        "hidden_layer=fully_connected(X,num_hidden,activation_fn=None)\n",
        "output_layer=fully_connected(hidden_layer,num_outputs,activation_fn=None)"
      ],
      "execution_count": 0,
      "outputs": []
    },
    {
      "metadata": {
        "id": "AuWNBBZOOP_f",
        "colab_type": "code",
        "colab": {}
      },
      "cell_type": "code",
      "source": [
        "#define loss function\n",
        "\n",
        "loss=tf.reduce_mean(tf.square(output_layer-X))"
      ],
      "execution_count": 0,
      "outputs": []
    },
    {
      "metadata": {
        "id": "U4j_EwAcOP_q",
        "colab_type": "code",
        "colab": {}
      },
      "cell_type": "code",
      "source": [
        "#Using adam optimizer with a learing rate of0.01\n",
        "optimizer=tf.train.AdamOptimizer(learning_rate)\n",
        "train=optimizer.minimize(loss)"
      ],
      "execution_count": 0,
      "outputs": []
    },
    {
      "metadata": {
        "id": "rdUcOMLnOP_u",
        "colab_type": "code",
        "colab": {}
      },
      "cell_type": "code",
      "source": [
        "#to initialize all the variables\n",
        "init=tf.global_variables_initializer()"
      ],
      "execution_count": 0,
      "outputs": []
    },
    {
      "metadata": {
        "id": "Gr9P8OiOOP_0",
        "colab_type": "code",
        "colab": {}
      },
      "cell_type": "code",
      "source": [
        "#Creating the session\n",
        "\n",
        "with tf.Session() as sess:\n",
        "    sess.run(init)\n",
        "    for i in range(1000):\n",
        "        sess.run(train,feed_dict={X:scaled_data})\n",
        "    \n",
        "    reduced_x=hidden_layer.eval(feed_dict={X:scaled_data})"
      ],
      "execution_count": 0,
      "outputs": []
    },
    {
      "metadata": {
        "id": "gGki4EdsOP_-",
        "colab_type": "code",
        "colab": {},
        "outputId": "e1f19324-78ee-4c34-b46a-7862cb560e7e"
      },
      "cell_type": "code",
      "source": [
        "#To confirm that data is reduced to 2 dimenstions from 30 dimensions"
      ],
      "execution_count": 0,
      "outputs": [
        {
          "output_type": "execute_result",
          "data": {
            "text/plain": [
              "(500, 2)"
            ]
          },
          "metadata": {
            "tags": []
          },
          "execution_count": 24
        }
      ]
    },
    {
      "metadata": {
        "id": "4TiNvD2ZOQAF",
        "colab_type": "code",
        "colab": {},
        "outputId": "840059d6-8a6c-4c99-98ab-fb574e41aa0e"
      },
      "cell_type": "code",
      "source": [
        "#Plotting our final data in 2 dimensions.\n",
        "plt.scatter(reduced_x[:,0],reduced_x[:,1],c=df[\"Label\"])"
      ],
      "execution_count": 0,
      "outputs": [
        {
          "output_type": "execute_result",
          "data": {
            "text/plain": [
              "<matplotlib.collections.PathCollection at 0x2aa3409ac88>"
            ]
          },
          "metadata": {
            "tags": []
          },
          "execution_count": 26
        },
        {
          "output_type": "display_data",
          "data": {
            "image/png": "[encoded data removed]",
            "text/plain": [
              "<Figure size 432x288 with 1 Axes>"
            ]
          },
          "metadata": {
            "tags": []
          }
        }
      ]
    },
    {
      "metadata": {
        "id": "2YEwKsdxOQAK",
        "colab_type": "code",
        "colab": {}
      },
      "cell_type": "code",
      "source": [
        ""
      ],
      "execution_count": 0,
      "outputs": []
    }
  ]
}